{
 "cells": [
  {
   "cell_type": "markdown",
   "id": "b1ddd6a5",
   "metadata": {},
   "source": [
    "Data Science Tools and Ecosystem"
   ]
  },
  {
   "cell_type": "markdown",
   "id": "6f6c35fe",
   "metadata": {},
   "source": [
    "In this notebook, Data Science Tools and Ecosystem are summarized."
   ]
  },
  {
   "cell_type": "markdown",
   "id": "b70ece13",
   "metadata": {},
   "source": [
    "Objectives:\n",
    ".List popular languages for Data Science\n",
    ".Data Science Tools\n",
    ".Simple Aritmethics    "
   ]
  },
  {
   "cell_type": "markdown",
   "id": "3738d6d6",
   "metadata": {},
   "source": [
    "Some of the popular languages that Data Scientists use are: 1-Phyton 2-R 3-SQL"
   ]
  },
  {
   "cell_type": "markdown",
   "id": "ee2f41dc",
   "metadata": {},
   "source": [
    "Some of the commonly used libraries used by Data Scientists include: 1-TensorFlow 2-numPY 3-sciPY"
   ]
  },
  {
   "cell_type": "markdown",
   "id": "6aa6580a",
   "metadata": {},
   "source": [
    "# Data Science Tools\n",
    "1-Apache Spark\n",
    "2-Apache Hadoop\n",
    "3-TensorFlow"
   ]
  },
  {
   "cell_type": "code",
   "execution_count": null,
   "id": "8bca8fc9",
   "metadata": {},
   "outputs": [],
   "source": [
    "# Below are a few examples of evaluating arithmetic expressions in Python"
   ]
  },
  {
   "cell_type": "markdown",
   "id": "29bad055",
   "metadata": {},
   "source": [
    "This a simple arithmetic expression to mutiply then add integers"
   ]
  },
  {
   "cell_type": "code",
   "execution_count": 3,
   "id": "7a1fe32a",
   "metadata": {},
   "outputs": [
    {
     "data": {
      "text/plain": [
       "17"
      ]
     },
     "execution_count": 3,
     "metadata": {},
     "output_type": "execute_result"
    }
   ],
   "source": [
    "(3*4)+5"
   ]
  },
  {
   "cell_type": "markdown",
   "id": "5dc131a9",
   "metadata": {},
   "source": [
    "This will convert 200 minutes to hours by diving by 60"
   ]
  },
  {
   "cell_type": "code",
   "execution_count": 38,
   "id": "300d881a",
   "metadata": {},
   "outputs": [],
   "source": [
    "minutes = (200)"
   ]
  },
  {
   "cell_type": "code",
   "execution_count": 39,
   "id": "73b53491",
   "metadata": {},
   "outputs": [],
   "source": [
    "hours = minutes%60"
   ]
  },
  {
   "cell_type": "markdown",
   "id": "999fe40e",
   "metadata": {},
   "source": [
    "# Author Ferdi Mahlıçlı"
   ]
  },
  {
   "cell_type": "code",
   "execution_count": null,
   "id": "f59222af",
   "metadata": {},
   "outputs": [],
   "source": []
  }
 ],
 "metadata": {
  "kernelspec": {
   "display_name": "Python 3 (ipykernel)",
   "language": "python",
   "name": "python3"
  },
  "language_info": {
   "codemirror_mode": {
    "name": "ipython",
    "version": 3
   },
   "file_extension": ".py",
   "mimetype": "text/x-python",
   "name": "python",
   "nbconvert_exporter": "python",
   "pygments_lexer": "ipython3",
   "version": "3.10.9"
  }
 },
 "nbformat": 4,
 "nbformat_minor": 5
}
